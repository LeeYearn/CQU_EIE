{
 "cells": [
  {
   "cell_type": "code",
   "execution_count": 1,
   "metadata": {},
   "outputs": [],
   "source": [
    "import os\n",
    "import random\n",
    "import shutil"
   ]
  },
  {
   "cell_type": "code",
   "execution_count": 2,
   "metadata": {},
   "outputs": [],
   "source": [
    "def data_split(full_list, ratio):\n",
    "    n_total = len(full_list)\n",
    "    offset = int(n_total * ratio)\n",
    "    if n_total == 0 or offset < 1:\n",
    "        return [], full_list\n",
    "    random.shuffle(full_list)\n",
    "    sublist_1 = full_list[:offset]\n",
    "    sublist_2 = full_list[offset:]\n",
    "    return sublist_1, sublist_2"
   ]
  },
  {
   "cell_type": "code",
   "execution_count": 3,
   "metadata": {},
   "outputs": [],
   "source": [
    "def create_dir(directory):\n",
    "    if not os.path.exists(directory):\n",
    "        os.makedirs(directory)"
   ]
  },
  {
   "cell_type": "code",
   "execution_count": 4,
   "metadata": {},
   "outputs": [],
   "source": [
    "# 数据集路径\n",
    "images_dir = \"C:/Users/admin/Desktop/CQU_EIE/dataEngineer/trafSignReco/dataset/images/\"\n",
    "labels_dir = \"C:/Users/admin/Desktop/CQU_EIE/dataEngineer/trafSignReco/dataset/labels\""
   ]
  },
  {
   "cell_type": "code",
   "execution_count": 5,
   "metadata": {},
   "outputs": [],
   "source": [
    "# 训练集和验证集文件夹\n",
    "train_p = \"C:/Users/admin/Desktop/CQU_EIE/dataEngineer/trafSignReco/dataset/train\"\n",
    "val_p = \"C:/Users/admin/Desktop/CQU_EIE/dataEngineer/trafSignReco/dataset/val\"\n",
    "imgs_p = \"images\"\n",
    "labels_p = \"labels\""
   ]
  },
  {
   "cell_type": "code",
   "execution_count": 6,
   "metadata": {},
   "outputs": [],
   "source": [
    "# 创建训练集和验证集文件夹\n",
    "create_dir(train_p)\n",
    "create_dir(os.path.join(train_p, imgs_p))\n",
    "create_dir(os.path.join(train_p, labels_p))\n",
    "\n",
    "create_dir(val_p)\n",
    "create_dir(os.path.join(val_p, imgs_p))\n",
    "create_dir(os.path.join(val_p, labels_p))"
   ]
  },
  {
   "cell_type": "code",
   "execution_count": 7,
   "metadata": {},
   "outputs": [],
   "source": [
    "# 划分比例\n",
    "proportion_ = 0.9  # 训练集占比\n",
    "\n",
    "# 获取所有图片文件\n",
    "total_file = os.listdir(images_dir)\n",
    "num = len(total_file)"
   ]
  },
  {
   "cell_type": "code",
   "execution_count": 8,
   "metadata": {},
   "outputs": [],
   "source": [
    "# 生成文件索引列表\n",
    "list_ = [i for i in range(num)]\n",
    "\n",
    "# 按照比例划分数据集\n",
    "list1, list2 = data_split(list_, proportion_)"
   ]
  },
  {
   "cell_type": "code",
   "execution_count": 9,
   "metadata": {},
   "outputs": [
    {
     "name": "stdout",
     "output_type": "stream",
     "text": [
      "开始拷贝训练集...\n",
      "数据集划分完成：总数量：297，训练集数量：267，验证集数量：30\n"
     ]
    }
   ],
   "source": [
    "# 拷贝训练集\n",
    "print(\"开始拷贝训练集...\")\n",
    "\n",
    "for i in range(num):\n",
    "    file = total_file[i]\n",
    "    name, ext = os.path.splitext(file)\n",
    "    \n",
    "    if i in list1:\n",
    "        jpg_src = os.path.join(images_dir, file)\n",
    "        txt_src = os.path.join(labels_dir, name + '.txt')\n",
    "        jpg_dest = os.path.join(train_p, imgs_p, file)\n",
    "        txt_dest = os.path.join(train_p, labels_p, name + '.txt')\n",
    "        \n",
    "        if os.path.exists(txt_src) and os.path.exists(jpg_src):\n",
    "            shutil.copyfile(jpg_src, jpg_dest)\n",
    "            shutil.copyfile(txt_src, txt_dest)\n",
    "        else:\n",
    "            print(f\"Missing file for training set: {file}\")\n",
    "    \n",
    "    elif i in list2:\n",
    "        jpg_src = os.path.join(images_dir, file)\n",
    "        txt_src = os.path.join(labels_dir, name + '.txt')\n",
    "        jpg_dest = os.path.join(val_p, imgs_p, file)\n",
    "        txt_dest = os.path.join(val_p, labels_p, name + '.txt')\n",
    "        \n",
    "        shutil.copyfile(jpg_src, jpg_dest)\n",
    "        shutil.copyfile(txt_src, txt_dest)\n",
    "        \n",
    "# 输出统计信息\n",
    "print(f\"数据集划分完成：总数量：{num}，训练集数量：{len(list1)}，验证集数量：{len(list2)}\")"
   ]
  },
  {
   "cell_type": "code",
   "execution_count": null,
   "metadata": {},
   "outputs": [],
   "source": []
  }
 ],
 "metadata": {
  "kernelspec": {
   "display_name": "Python (yolov8)",
   "language": "python",
   "name": "yolov8"
  },
  "language_info": {
   "codemirror_mode": {
    "name": "ipython",
    "version": 3
   },
   "file_extension": ".py",
   "mimetype": "text/x-python",
   "name": "python",
   "nbconvert_exporter": "python",
   "pygments_lexer": "ipython3",
   "version": "3.8.5"
  }
 },
 "nbformat": 4,
 "nbformat_minor": 2
}
