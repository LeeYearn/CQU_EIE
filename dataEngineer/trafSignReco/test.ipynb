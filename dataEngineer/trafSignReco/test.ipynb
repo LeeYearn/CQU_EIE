{
 "cells": [
  {
   "cell_type": "code",
   "execution_count": 2,
   "metadata": {},
   "outputs": [
    {
     "name": "stdout",
     "output_type": "stream",
     "text": [
      "已成功将 297 个 jpg 文件复制到目标目录。\n"
     ]
    }
   ],
   "source": [
    "import os\n",
    "import shutil\n",
    "\n",
    "# 定义源目录和目标目录\n",
    "source_dir = r'C:\\Users\\admin\\Desktop\\CQU_EIE\\dataEngineer\\trafSignReco\\dataset\\data'\n",
    "target_dir = r'C:\\Users\\admin\\Desktop\\CQU_EIE\\dataEngineer\\trafSignReco\\dataset\\images'\n",
    "\n",
    "# 检查目标目录是否存在，不存在则创建\n",
    "if not os.path.exists(target_dir):\n",
    "    os.makedirs(target_dir)\n",
    "\n",
    "# 获取源目录下所有的json文件\n",
    "json_files = [f for f in os.listdir(source_dir) if f.endswith('.jpg')]\n",
    "\n",
    "# 将json文件复制到目标目录\n",
    "for file in json_files:\n",
    "    source_file = os.path.join(source_dir, file)\n",
    "    target_file = os.path.join(target_dir, file)\n",
    "    shutil.copy(source_file, target_file)\n",
    "\n",
    "print(f\"已成功将 {len(json_files)} 个 jpg 文件复制到目标目录。\")"
   ]
  },
  {
   "cell_type": "code",
   "execution_count": null,
   "metadata": {},
   "outputs": [],
   "source": []
  }
 ],
 "metadata": {
  "kernelspec": {
   "display_name": "Python (yolov8)",
   "language": "python",
   "name": "yolov8"
  },
  "language_info": {
   "codemirror_mode": {
    "name": "ipython",
    "version": 3
   },
   "file_extension": ".py",
   "mimetype": "text/x-python",
   "name": "python",
   "nbconvert_exporter": "python",
   "pygments_lexer": "ipython3",
   "version": "3.8.5"
  }
 },
 "nbformat": 4,
 "nbformat_minor": 2
}
