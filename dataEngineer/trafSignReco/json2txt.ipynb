{
 "cells": [
  {
   "cell_type": "code",
   "execution_count": null,
   "metadata": {},
   "outputs": [],
   "source": [
    "# -*- coding: utf-8 -*-\n",
    "import json\n",
    "import os\n",
    "from tqdm import tqdm\n",
    "import glob\n",
    "import cv2\n",
    "import numpy as np"
   ]
  },
  {
   "cell_type": "code",
   "execution_count": null,
   "metadata": {},
   "outputs": [],
   "source": [
    "def convert_label_json(json_dir, save_dir, classes):\n",
    "    json_paths = os.listdir(json_dir)\n",
    "    classes = classes.split(',')\n",
    "\n",
    "    for json_path in tqdm(json_paths):\n",
    "        path = os.path.join(json_dir, json_path)\n",
    "        with open(path, 'r') as load_f:\n",
    "            json_dict = json.load(load_f)\n",
    "        h, w = json_dict['imageHeight'], json_dict['imageWidth']\n",
    "\n",
    "        # save txt path\n",
    "        txt_path = os.path.join(save_dir, json_path.replace('json', 'txt'))\n",
    "        txt_file = open(txt_path, 'w')\n",
    "\n",
    "        for shape_dict in json_dict['shapes']:\n",
    "            label = shape_dict['label']\n",
    "            label_index = classes.index(label)\n",
    "            points = shape_dict['points']\n",
    "\n",
    "            points_nor_list = []\n",
    "\n",
    "            for point in points:\n",
    "                points_nor_list.append(point[0] / w)\n",
    "                points_nor_list.append(point[1] / h)\n",
    "\n",
    "            points_nor_list = list(map(lambda x: str(x), points_nor_list))\n",
    "            points_nor_str = ' '.join(points_nor_list)\n",
    "\n",
    "            label_str = str(label_index) + ' ' + points_nor_str + '\\n'\n",
    "            txt_file.writelines(label_str)"
   ]
  },
  {
   "cell_type": "code",
   "execution_count": null,
   "metadata": {},
   "outputs": [],
   "source": [
    "# 直接设置参数\n",
    "json_dir = 'C:/Users/admin/Desktop/CQU_EIE/dataEngineer/trafSignReco/dataset/json_labels'\n",
    "save_dir = 'C:/Users/admin/Desktop/CQU_EIE/dataEngineer/trafSignReco/dataset/labels'\n",
    "classes = 'red light,green light,yellow light,turn right,parking,zebra'\n",
    "\n",
    "# 转换标签\n",
    "convert_label_json(json_dir, save_dir, classes)"
   ]
  },
  {
   "cell_type": "code",
   "execution_count": null,
   "metadata": {},
   "outputs": [],
   "source": [
    "def check_labels(txt_labels, images_dir):\n",
    "    txt_files = glob.glob(txt_labels + \"/*.txt\")\n",
    "    for txt_file in txt_files:\n",
    "        filename = os.path.splitext(os.path.basename(txt_file))[0]\n",
    "        pic_path = os.path.join(images_dir, filename + \".jpg\")  # 确保路径正确\n",
    "\n",
    "        img = cv2.imread(pic_path)\n",
    "        if img is None:\n",
    "            print(f\"Image not found or unable to read: {pic_path}\")\n",
    "            continue  # 如果图片无法读取，跳过该文件\n",
    "\n",
    "        height, width, _ = img.shape\n",
    "\n",
    "        file_handle = open(txt_file)\n",
    "        cnt_info = file_handle.readlines()\n",
    "        new_cnt_info = [line_str.replace(\"\\n\", \"\").split(\" \") for line_str in cnt_info]\n",
    "\n",
    "        color_map = {\"0\": (0, 255, 255)}  # 用黄色绘制边框\n",
    "        for new_info in new_cnt_info:\n",
    "            print(new_info)\n",
    "            s = []\n",
    "            for i in range(1, len(new_info), 2):\n",
    "                b = [float(tmp) for tmp in new_info[i:i + 2]]\n",
    "                s.append([int(b[0] * width), int(b[1] * height)])\n",
    "\n",
    "            # 设置线条厚度为2，调整为更粗的线条\n",
    "            cv2.polylines(img, [np.array(s, np.int32)], True, color_map.get(new_info[0]), thickness=2)\n",
    "\n",
    "        cv2.namedWindow('img2', 0)\n",
    "        cv2.imshow('img2', img)\n",
    "        cv2.waitKey()"
   ]
  },
  {
   "cell_type": "code",
   "execution_count": null,
   "metadata": {},
   "outputs": [],
   "source": [
    "images_dir = 'C:/Users/admin/Desktop/CQU_EIE/dataEngineer/trafSignReco/dataset/images/'\n",
    "check_labels(save_dir, images_dir)"
   ]
  }
 ],
 "metadata": {
  "kernelspec": {
   "display_name": "Python (yolov8)",
   "language": "python",
   "name": "yolov8"
  },
  "language_info": {
   "codemirror_mode": {
    "name": "ipython",
    "version": 3
   },
   "file_extension": ".py",
   "mimetype": "text/x-python",
   "name": "python",
   "nbconvert_exporter": "python",
   "pygments_lexer": "ipython3",
   "version": "3.8.5"
  }
 },
 "nbformat": 4,
 "nbformat_minor": 2
}
