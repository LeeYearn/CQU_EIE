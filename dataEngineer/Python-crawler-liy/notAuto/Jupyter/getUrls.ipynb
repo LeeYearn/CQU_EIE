{
 "cells": [
  {
   "cell_type": "code",
   "execution_count": 1,
   "metadata": {},
   "outputs": [],
   "source": [
    "import requests\n",
    "import json"
   ]
  },
  {
   "cell_type": "code",
   "execution_count": 2,
   "metadata": {},
   "outputs": [],
   "source": [
    "# API URL\n",
    "url1 = \"https://www.asos.com/api/product/search/v2/categories/27110?offset=\"\n",
    "url2 = \"&includeNonPurchasableTypes=restocking&key-search-mvtid=algolia&store=COM&lang=en-GB&currency=GBP&rowlength=3&channel=desktop-web&country=GB&keyStoreDataversion=mhabj1f-41&advertisementsPartnerId=100712&advertisementsVisitorId=346df952-e181-4720-be67-191f98bc41e0&advertisementsOptInConsent=true&limit=200\""
   ]
  },
  {
   "cell_type": "code",
   "execution_count": 3,
   "metadata": {},
   "outputs": [],
   "source": [
    "# JSON文件路径\n",
    "jsonDir = \"/home/ubuntu/crawler/products_info.json\""
   ]
  },
  {
   "cell_type": "code",
   "execution_count": 4,
   "metadata": {},
   "outputs": [],
   "source": [
    "data = {}\n",
    "for i in range(0, 1000, 200):\n",
    "    url = url1 + str(i) + url2\n",
    "    # 发送请求\n",
    "    response = requests.get(url)\n",
    "    # 检查请求是否成功\n",
    "    if response.status_code == 200:\n",
    "        responseData = response.json()\n",
    "        products = responseData.get(\"products\", [])\n",
    "        \n",
    "        # 提取所需的信息\n",
    "        for product in products:\n",
    "            id = product.get(\"id\")\n",
    "            name = product.get(\"name\")\n",
    "            price = product.get(\"price\", {}).get(\"current\", {}).get(\"text\")\n",
    "            urlAddr = f\"https://www.asos.com/{product.get(\"url\")}\"\n",
    "            image = product.get(\"additionalImageUrls\", [])\n",
    "            \n",
    "            # 添加主图地址并拼接\n",
    "            image_url = product.get(\"imageUrl\")\n",
    "            image.append(image_url)\n",
    "\n",
    "            # 拼接其他图片地址\n",
    "            image = [f\"https://{img_url}?$n_640w$&wid=513&fit=constrain\" for img_url in image]\n",
    "\n",
    "            # 将产品信息存储在字典中\n",
    "            data[id] = {\n",
    "                \"name\": name,\n",
    "                \"price\": price,\n",
    "                \"url\": urlAddr,\n",
    "                \"additionalImageUrls\": image\n",
    "            }\n",
    "# 保存为JSON文件\n",
    "with open(jsonDir, \"w\", encoding='utf-8') as json_file:\n",
    "    json.dump(data, json_file, ensure_ascii=False, indent=4)"
   ]
  },
  {
   "cell_type": "code",
   "execution_count": null,
   "metadata": {},
   "outputs": [],
   "source": []
  }
 ],
 "metadata": {
  "kernelspec": {
   "display_name": "Python 3 (ipykernel)",
   "language": "python",
   "name": "python3"
  },
  "language_info": {
   "codemirror_mode": {
    "name": "ipython",
    "version": 3
   },
   "file_extension": ".py",
   "mimetype": "text/x-python",
   "name": "python",
   "nbconvert_exporter": "python",
   "pygments_lexer": "ipython3",
   "version": "3.12.4"
  }
 },
 "nbformat": 4,
 "nbformat_minor": 4
}
