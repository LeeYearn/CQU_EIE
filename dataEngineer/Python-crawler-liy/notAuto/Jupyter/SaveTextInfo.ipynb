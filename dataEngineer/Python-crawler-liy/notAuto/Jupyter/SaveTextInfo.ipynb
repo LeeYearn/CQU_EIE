{
 "cells": [
  {
   "cell_type": "code",
   "execution_count": 1,
   "metadata": {},
   "outputs": [],
   "source": [
    "import os\n",
    "import re\n",
    "import json\n",
    "import requests\n",
    "import threading\n",
    "from tqdm import tqdm  # 导入 tqdm 库\n",
    "from concurrent.futures import ThreadPoolExecutor"
   ]
  },
  {
   "cell_type": "code",
   "execution_count": 2,
   "metadata": {},
   "outputs": [],
   "source": [
    "# 设置标头信息\n",
    "headers = {\n",
    "    'User-Agent': 'Mozilla/5.0 (Windows NT 10.0; Win64; x64) AppleWebKit/537.36 (KHTML, like Gecko) Chrome/129.0.0.0 Safari/537.36 Edg/129.0.0.0',\n",
    "    'Accept-Language': 'zh-CN,zh;q=0.9,en;q=0.8,en-GB;q=0.7,en-US;q=0.6'\n",
    "}"
   ]
  },
  {
   "cell_type": "code",
   "execution_count": 3,
   "metadata": {},
   "outputs": [],
   "source": [
    "\n",
    "jsonDir = \"/home/ubuntu/crawler/products_info.json\"\n",
    "with open(jsonDir, 'r') as file:\n",
    "    data = json.load(file)  # 读取 JSON 数据\n"
   ]
  },
  {
   "cell_type": "code",
   "execution_count": 4,
   "metadata": {},
   "outputs": [],
   "source": [
    "count = 0  # 计数器\n",
    "lock = threading.Lock()  # 创建锁"
   ]
  },
  {
   "cell_type": "code",
   "execution_count": 5,
   "metadata": {},
   "outputs": [],
   "source": [
    "def fetch_and_process_url(url):\n",
    "    # 发送请求\n",
    "    response = requests.get(url, headers=headers)\n",
    "\n",
    "    # 检查请求是否成功\n",
    "    if response.status_code == 200:\n",
    "        # 使用正则表达式匹配并提取第二个div内容\n",
    "        divs = re.findall(r'<div class=\"F_yfF\">(.*?)</div>', response.text, re.DOTALL)\n",
    "        # 提取第二个div的内容\n",
    "        if len(divs) > 1:\n",
    "            div = divs[1]\n",
    "            text = re.sub(r'<.*?>', '', div)  # 用空格替换标签\n",
    "            return text.strip()\n",
    "        else:\n",
    "            return None\n",
    "    else:\n",
    "        return None"
   ]
  },
  {
   "cell_type": "code",
   "execution_count": 6,
   "metadata": {},
   "outputs": [],
   "source": [
    "def write_info(product_id, product_info):\n",
    "    global count\n",
    "    # 提取 URL\n",
    "    url = product_info['url']  # 提取 URL\n",
    "    name = product_info['name']  # 提取名称\n",
    "    price = product_info['price']  # 提取价格\n",
    "    url = fetch_and_process_url(url)\n",
    "    output_dir = f'/home/ubuntu/crawler/info/{product_id}'\n",
    "    os.makedirs(output_dir, exist_ok=True)\n",
    "    with open(os.path.join(output_dir, 'info.txt'), 'w') as f:\n",
    "        f.write(f'Name: {name}\\n')\n",
    "        f.write(f'Price: {price}\\n')\n",
    "        f.write(f'Brand: {url}\\n')\n",
    "    with lock:\n",
    "        count += 1"
   ]
  },
  {
   "cell_type": "code",
   "execution_count": 7,
   "metadata": {},
   "outputs": [
    {
     "name": "stderr",
     "output_type": "stream",
     "text": [
      "Processing URLs: 100%|████████████████████████| 998/998 [01:44<00:00,  9.58it/s]\n"
     ]
    }
   ],
   "source": [
    "with ThreadPoolExecutor() as executor:\n",
    "    with tqdm(total=len(data.items()), desc=\"Processing URLs\") as pbar:\n",
    "        futures = {executor.submit(write_info, product_id, url): product_id for product_id, url in data.items()}\n",
    "\n",
    "        # 等待所有任务完成\n",
    "        for future in futures:\n",
    "            future.result()  # 获取结果，确保异常被抛出\n",
    "            pbar.update(1)  # 更新进度条"
   ]
  }
 ],
 "metadata": {
  "kernelspec": {
   "display_name": "Python 3 (ipykernel)",
   "language": "python",
   "name": "python3"
  },
  "language_info": {
   "codemirror_mode": {
    "name": "ipython",
    "version": 3
   },
   "file_extension": ".py",
   "mimetype": "text/x-python",
   "name": "python",
   "nbconvert_exporter": "python",
   "pygments_lexer": "ipython3",
   "version": "3.12.4"
  }
 },
 "nbformat": 4,
 "nbformat_minor": 4
}
