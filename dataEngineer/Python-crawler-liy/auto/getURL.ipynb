{
 "cells": [
  {
   "cell_type": "code",
   "execution_count": 1,
   "metadata": {},
   "outputs": [],
   "source": [
    "import pandas as pd\n",
    "from selenium import webdriver\n",
    "from selenium.webdriver.chrome.service import Service\n",
    "from selenium.webdriver.chrome.options import Options\n",
    "from selenium.webdriver.common.by import By  # 导入 By\n",
    "from selenium.webdriver.support.ui import WebDriverWait  # 导入 WebDriverWait\n",
    "from selenium.webdriver.support import expected_conditions as EC  # 导入期望条件"
   ]
  },
  {
   "cell_type": "code",
   "execution_count": 2,
   "metadata": {},
   "outputs": [],
   "source": [
    "# 设置 Chrome 浏览器选项\n",
    "chrome_options = Options()\n",
    "chrome_options.add_argument(\"--headless\")  # 启用无头模式\n",
    "chrome_options.add_argument(\"--disable-gpu\")  # 禁用 GPU 加速\n",
    "chrome_options.add_argument(\"--window-size=1920,1080\") # 设置窗口大小\n",
    "chrome_options.add_argument(\"user-agent=Mozilla/5.0 (Windows NT 10.0; Win64; x64) AppleWebKit/537.36 (KHTML, like Gecko) Chrome/100.0.4896.127 Safari/537.36\") # 设置用户代理\n",
    "chrome_options.add_argument(\"--disable-extensions\") # 禁用扩展\n",
    "chrome_options.add_argument(\"--no-sandbox\") # 禁用沙盒模式\n",
    "chrome_options.add_argument(\"--disable-dev-shm-usage\")  # 禁用禁用共享内存使用"
   ]
  },
  {
   "cell_type": "code",
   "execution_count": 3,
   "metadata": {},
   "outputs": [],
   "source": [
    "# 启动 Chrome 浏览器\n",
    "service = Service('/usr/local/bin/chromedriver-linux64/chromedriver')  # 替换为你的 ChromeDriver 路径\n",
    "driver = webdriver.Chrome(service=service, options=chrome_options)"
   ]
  },
  {
   "cell_type": "code",
   "execution_count": 4,
   "metadata": {},
   "outputs": [],
   "source": [
    "links = []\n",
    "for i in range(1,5):\n",
    "    # 打开目标网页\n",
    "    url = \"https://www.asos.com/women/ctas/curated-category-5/cat/?cid=51589&ctaref=hp%7Cww%7Cprime%7Cvideohero%7C1%7Cedit%7Ccoldweather&page=\" + str(i)\n",
    "    # 打开网页\n",
    "    driver.get(url)\n",
    "    # 等待页面加载，直到找到指定 class 的元素\n",
    "    # WebDriverWait(driver, 10).until(EC.presence_of_all_elements_located((By.CLASS_NAME, 'productLink_KM4PI')))\n",
    "    try:\n",
    "        WebDriverWait(driver, 10).until(EC.presence_of_all_elements_located((By.CLASS_NAME, 'productLink_KM4PI')))\n",
    "    except Exception:\n",
    "        pass  # 捕获异常但不输出任何内容\n",
    "    # 获取所有 class 为 'productLink_KM4PI' 的链接元素\n",
    "    product_elements = driver.find_elements(By.CLASS_NAME, 'productLink_KM4PI')\n",
    "    # 获取所有链接\n",
    "    links.extend([element.get_attribute('href') for element in product_elements])\n"
   ]
  },
  {
   "cell_type": "code",
   "execution_count": 6,
   "metadata": {},
   "outputs": [],
   "source": [
    "# 将链接保存到 url.csv\n",
    "df = pd.DataFrame(links, columns=['url'])\n",
    "df.to_csv('/home/liy/cqu_eie/DataEngineer/实验 Python程序设计-爬虫的实现-liy/url.csv', index=False)"
   ]
  },
  {
   "cell_type": "code",
   "execution_count": 5,
   "metadata": {},
   "outputs": [
    {
     "name": "stdout",
     "output_type": "stream",
     "text": [
      "总共找到 273 个链接\n"
     ]
    }
   ],
   "source": [
    "# 确认获取到的链接数量\n",
    "print(f\"总共找到 {len(links)} 个链接\")"
   ]
  },
  {
   "cell_type": "code",
   "execution_count": 11,
   "metadata": {},
   "outputs": [],
   "source": [
    "# 关闭浏览器\n",
    "driver.quit()"
   ]
  }
 ],
 "metadata": {
  "kernelspec": {
   "display_name": "Python 3 (ipykernel)",
   "language": "python",
   "name": "python3"
  }
 },
 "nbformat": 4,
 "nbformat_minor": 2
}
