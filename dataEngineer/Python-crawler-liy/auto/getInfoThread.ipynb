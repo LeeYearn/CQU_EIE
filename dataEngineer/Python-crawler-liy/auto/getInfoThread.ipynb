{
 "cells": [
  {
   "cell_type": "code",
   "execution_count": 1,
   "metadata": {},
   "outputs": [],
   "source": [
    "import time\n",
    "import pandas as pd\n",
    "from selenium import webdriver\n",
    "from selenium.webdriver.common.by import By\n",
    "from concurrent.futures import ThreadPoolExecutor\n",
    "from selenium.webdriver.chrome.service import Service\n",
    "from selenium.webdriver.chrome.options import Options\n",
    "from selenium.webdriver.support.ui import WebDriverWait\n",
    "from selenium.webdriver.support import expected_conditions as EC"
   ]
  },
  {
   "cell_type": "code",
   "execution_count": 2,
   "metadata": {},
   "outputs": [],
   "source": [
    "# 读取 URL 列表\n",
    "df_urls = pd.read_csv('/home/liy/cqu_eie/DataEngineer/实验 Python程序设计-爬虫的实现-liy/url.csv')\n",
    "urls = df_urls['url'].tolist()"
   ]
  },
  {
   "cell_type": "code",
   "execution_count": 3,
   "metadata": {},
   "outputs": [],
   "source": [
    "# 设置 Chrome 浏览器选项\n",
    "chrome_options = Options()\n",
    "chrome_options.add_argument(\"--headless\")  # 启用无头模式\n",
    "chrome_options.add_argument(\"--disable-gpu\")  # 禁用 GPU 加速\n",
    "chrome_options.add_argument(\"--window-size=1920,1080\") # 设置窗口大小\n",
    "chrome_options.add_argument(\"user-agent=Mozilla/5.0 (Windows NT 10.0; Win64; x64) AppleWebKit/537.36 (KHTML, like Gecko) Chrome/100.0.4896.127 Safari/537.36\") # 设置用户代理\n",
    "chrome_options.add_argument(\"--disable-extensions\") # 禁用扩展\n",
    "chrome_options.add_argument(\"--no-sandbox\") # 禁用沙盒模式\n",
    "chrome_options.add_argument(\"--disable-dev-shm-usage\")  # 禁用禁用共享内存使用"
   ]
  },
  {
   "cell_type": "code",
   "execution_count": 4,
   "metadata": {},
   "outputs": [],
   "source": [
    "# 定义线程任务函数\n",
    "def scrape_product_info(index, url):\n",
    "    start_time = time.time()  # 记录开始时间\n",
    "    # print(f\"开始处理产品 {index + 1}: {url}\")\n",
    "\n",
    "    # 启动 Chrome 浏览器（每个线程单独使用一个浏览器实例）\n",
    "    service = Service('/usr/local/bin/chromedriver-linux64/chromedriver')  # 替换为你的 ChromeDriver 路径\n",
    "    driver = webdriver.Chrome(service=service, options=chrome_options)\n",
    "\n",
    "    try:\n",
    "        driver.get(url)\n",
    "\n",
    "        # 等待商品信息加载\n",
    "        WebDriverWait(driver, 10).until(EC.presence_of_all_elements_located((By.CLASS_NAME, 'jcdpl')))\n",
    "        WebDriverWait(driver, 10).until(EC.presence_of_all_elements_located((By.CLASS_NAME, 'MwTOW')))\n",
    "\n",
    "        # 获取商品名称\n",
    "        product_name = driver.find_element(By.CLASS_NAME, 'jcdpl').text\n",
    "\n",
    "        # 获取价格信息\n",
    "        price = driver.find_element(By.CLASS_NAME, 'MwTOW').text\n",
    "\n",
    "        # 输出结果\n",
    "        # print(f\"产品名称: {product_name}\")\n",
    "        # print(f\"价格: {price}\")\n",
    "    finally:\n",
    "        driver.quit()\n",
    "\n",
    "    # 记录结束时间\n",
    "    end_time = time.time()\n",
    "    elapsed_time = end_time - start_time\n",
    "    print(f\"产品 {index + 1} 处理完毕，用时: {elapsed_time:.2f} 秒\")"
   ]
  },
  {
   "cell_type": "code",
   "execution_count": null,
   "metadata": {},
   "outputs": [],
   "source": [
    "max_workers = 15  # 设置最大线程数（根据系统性能调整）\n",
    "with ThreadPoolExecutor(max_workers=max_workers) as executor:\n",
    "    # 提交任务到线程池\n",
    "    futures = [executor.submit(scrape_product_info, index, url) for index, url in enumerate(urls)]\n",
    "\n",
    "    # 等待所有任务完成\n",
    "    for future in futures:\n",
    "        future.result()"
   ]
  },
  {
   "cell_type": "code",
   "execution_count": null,
   "metadata": {},
   "outputs": [],
   "source": [
    "print(\"所有产品处理完毕！\")"
   ]
  },
  {
   "cell_type": "code",
   "execution_count": 6,
   "metadata": {},
   "outputs": [],
   "source": [
    "# # 保存到 CSV 文件\n",
    "# results_df = pd.DataFrame(results)\n",
    "# dir = \"/home/liy/cqu_eie/DataEngineer/实验 Python程序设计-爬虫的实现-liy/test.csv\"\n",
    "# results_df.to_csv(dir, index=False, mode='a', header=not pd.io.common.file_exists(dir))"
   ]
  }
 ],
 "metadata": {
  "kernelspec": {
   "display_name": "Python 3 (ipykernel)",
   "language": "python",
   "name": "python3"
  },
  "language_info": {
   "codemirror_mode": {
    "name": "ipython",
    "version": 3
   },
   "file_extension": ".py",
   "mimetype": "text/x-python",
   "name": "python",
   "nbconvert_exporter": "python",
   "pygments_lexer": "ipython3",
   "version": "3.12.4"
  }
 },
 "nbformat": 4,
 "nbformat_minor": 2
}
