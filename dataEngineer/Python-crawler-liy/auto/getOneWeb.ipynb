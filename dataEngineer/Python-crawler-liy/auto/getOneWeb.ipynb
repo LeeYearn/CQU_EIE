{
 "cells": [
  {
   "cell_type": "code",
   "execution_count": 19,
   "metadata": {},
   "outputs": [],
   "source": [
    "import pandas as pd\n",
    "from selenium import webdriver\n",
    "from selenium.webdriver.chrome.service import Service\n",
    "from selenium.webdriver.chrome.options import Options\n",
    "from selenium.webdriver.common.by import By  # 导入 By\n",
    "from selenium.webdriver.support.ui import WebDriverWait  # 导入 WebDriverWait\n",
    "from selenium.webdriver.support import expected_conditions as EC  # 导入期望条件"
   ]
  },
  {
   "cell_type": "code",
   "execution_count": 20,
   "metadata": {},
   "outputs": [],
   "source": [
    "# 设置 Chrome 浏览器选项\n",
    "chrome_options = Options()\n",
    "chrome_options.add_argument(\"--headless\")  # 启用无头模式\n",
    "chrome_options.add_argument(\"--disable-gpu\")  # 禁用 GPU 加速\n",
    "chrome_options.add_argument(\"--window-size=1920,1080\") # 设置窗口大小\n",
    "chrome_options.add_argument(\"user-agent=Mozilla/5.0 (Windows NT 10.0; Win64; x64) AppleWebKit/537.36 (KHTML, like Gecko) Chrome/100.0.4896.127 Safari/537.36\") # 设置用户代理\n",
    "chrome_options.add_argument(\"--disable-extensions\") # 禁用扩展\n",
    "chrome_options.add_argument(\"--no-sandbox\") # 禁用沙盒模式\n",
    "chrome_options.add_argument(\"--disable-dev-shm-usage\")  # 禁用禁用共享内存使用"
   ]
  },
  {
   "cell_type": "code",
   "execution_count": 21,
   "metadata": {},
   "outputs": [],
   "source": [
    "# 启动 Chrome 浏览器\n",
    "service = Service('/usr/local/bin/chromedriver-linux64/chromedriver')  # 替换为你的 ChromeDriver 路径\n",
    "driver = webdriver.Chrome(service=service, options=chrome_options)"
   ]
  },
  {
   "cell_type": "code",
   "execution_count": 22,
   "metadata": {},
   "outputs": [],
   "source": [
    "# 设置目标网址\n",
    "url = \"https://www.asos.com/vero-moda/vero-moda-faux-fur-jacket-with-toggle-fastening-in-chocolate-brown/prd/207290943?ctaref=featured+product&featureref1=featured+product&#colourWayId-207290944\""
   ]
  },
  {
   "cell_type": "code",
   "execution_count": 23,
   "metadata": {},
   "outputs": [],
   "source": [
    "# 打开网页\n",
    "driver.get(url)"
   ]
  },
  {
   "cell_type": "code",
   "execution_count": 24,
   "metadata": {},
   "outputs": [],
   "source": [
    "# 等待页面加载\n",
    "driver.implicitly_wait(10)  # 可以根据需要调整等待时间"
   ]
  },
  {
   "cell_type": "code",
   "execution_count": 25,
   "metadata": {},
   "outputs": [
    {
     "name": "stdout",
     "output_type": "stream",
     "text": [
      "产品名称: Vero Moda faux fur jacket with toggle fastening in chocolate brown\n",
      "价格: £75.00\n"
     ]
    }
   ],
   "source": [
    "product_name = driver.find_element(By.CLASS_NAME, 'jcdpl').text.strip()\n",
    "price = driver.find_element(By.CLASS_NAME, 'MwTOW').text.strip()\n",
    "\n",
    "print(f\"产品名称: {product_name}\")\n",
    "print(f\"价格: {price}\")"
   ]
  },
  {
   "cell_type": "code",
   "execution_count": 26,
   "metadata": {},
   "outputs": [],
   "source": [
    "# 创建一个数据字典\n",
    "data = {\n",
    "    \"产品名称\": [product_name],\n",
    "    \"价格\": [price]\n",
    "}"
   ]
  },
  {
   "cell_type": "code",
   "execution_count": 27,
   "metadata": {},
   "outputs": [
    {
     "data": {
      "text/plain": [
       "{'产品名称': ['Vero Moda faux fur jacket with toggle fastening in chocolate brown'],\n",
       " '价格': ['£75.00']}"
      ]
     },
     "execution_count": 27,
     "metadata": {},
     "output_type": "execute_result"
    }
   ],
   "source": [
    "data"
   ]
  },
  {
   "cell_type": "code",
   "execution_count": 28,
   "metadata": {},
   "outputs": [],
   "source": [
    "df = pd.DataFrame(data)\n",
    "df.to_csv('/home/liy/cqu_eie/DataEngineer/实验 Python程序设计-爬虫的实现/self/output.csv', index=False, mode='a', header=not pd.io.common.file_exists('./info.csv'))  # 追加写入，如果文件不存在则写入标题"
   ]
  },
  {
   "cell_type": "code",
   "execution_count": 29,
   "metadata": {},
   "outputs": [],
   "source": [
    "driver.quit()"
   ]
  }
 ],
 "metadata": {
  "kernelspec": {
   "display_name": "Python 3 (ipykernel)",
   "language": "python",
   "name": "python3"
  },
  "language_info": {
   "codemirror_mode": {
    "name": "ipython",
    "version": 3
   },
   "file_extension": ".py",
   "mimetype": "text/x-python",
   "name": "python",
   "nbconvert_exporter": "python",
   "pygments_lexer": "ipython3",
   "version": "3.12.4"
  }
 },
 "nbformat": 4,
 "nbformat_minor": 4
}
