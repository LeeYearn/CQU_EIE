{
 "cells": [
  {
   "cell_type": "code",
   "execution_count": 1,
   "metadata": {},
   "outputs": [],
   "source": [
    "import requests\n",
    "import json\n",
    "import os\n",
    "from tqdm import tqdm  # 导入 tqdm 库\n",
    "from concurrent.futures import ThreadPoolExecutor, as_completed"
   ]
  },
  {
   "cell_type": "code",
   "execution_count": 2,
   "metadata": {},
   "outputs": [],
   "source": [
    "# JSON文件路径\n",
    "jsonDir = \"/home/ubuntu/crawler/products_info.json\""
   ]
  },
  {
   "cell_type": "code",
   "execution_count": 3,
   "metadata": {},
   "outputs": [],
   "source": [
    "# 读取JSON文件\n",
    "with open(jsonDir, \"r\", encoding='utf-8') as json_file:\n",
    "    ReadJson = json.load(json_file)"
   ]
  },
  {
   "cell_type": "code",
   "execution_count": 4,
   "metadata": {},
   "outputs": [],
   "source": [
    "# 下载图片的函数\n",
    "def download_image(product_id, img_url, index):\n",
    "    response = requests.get(img_url)\n",
    "    if response.status_code == 200:\n",
    "        file_name = f\"{product_id}_{index + 1}.jpg\"\n",
    "\n",
    "        # 图片存储目录\n",
    "        image_dir = f\"/home/ubuntu/crawler/info/{product_id}/image\"\n",
    "        # 创建目录如果不存在\n",
    "        os.makedirs(image_dir, exist_ok=True)\n",
    "\n",
    "        file_path = os.path.join(image_dir, file_name)\n",
    "        with open(file_path, \"wb\") as img_file:\n",
    "            img_file.write(response.content)\n",
    "        return f\"下载成功: {file_name}\"\n",
    "    else:\n",
    "        return f\"无法下载图片: {img_url}，状态码: {response.status_code}\""
   ]
  },
  {
   "cell_type": "code",
   "execution_count": 5,
   "metadata": {},
   "outputs": [],
   "source": [
    "# 收集所有图片下载任务\n",
    "download_tasks = []\n",
    "for product_id, product_info in ReadJson.items():\n",
    "    images = product_info.get(\"additionalImageUrls\", [])\n",
    "    for idx, img_url in enumerate(images):\n",
    "        download_tasks.append((product_id, img_url, idx))"
   ]
  },
  {
   "cell_type": "code",
   "execution_count": 6,
   "metadata": {},
   "outputs": [
    {
     "name": "stderr",
     "output_type": "stream",
     "text": [
      "下载进度: 100%|█████████████████████████████| 4190/4190 [03:10<00:00, 21.94it/s]\n"
     ]
    }
   ],
   "source": [
    "# 使用线程池下载图片并显示进度条\n",
    "with ThreadPoolExecutor() as executor:\n",
    "    with tqdm(total=len(download_tasks), desc=\"下载进度\") as pbar:\n",
    "        future_to_image = {executor.submit(download_image, *task): task for task in download_tasks}\n",
    "        \n",
    "        for future in as_completed(future_to_image):\n",
    "            result = future.result()\n",
    "            pbar.update(1)  # 更新进度条"
   ]
  }
 ],
 "metadata": {
  "kernelspec": {
   "display_name": "Python 3 (ipykernel)",
   "language": "python",
   "name": "python3"
  },
  "language_info": {
   "codemirror_mode": {
    "name": "ipython",
    "version": 3
   },
   "file_extension": ".py",
   "mimetype": "text/x-python",
   "name": "python",
   "nbconvert_exporter": "python",
   "pygments_lexer": "ipython3",
   "version": "3.12.4"
  }
 },
 "nbformat": 4,
 "nbformat_minor": 2
}
