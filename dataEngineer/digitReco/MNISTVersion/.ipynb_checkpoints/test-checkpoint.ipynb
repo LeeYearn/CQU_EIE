{
 "cells": [
  {
   "cell_type": "code",
   "execution_count": null,
   "metadata": {},
   "outputs": [],
   "source": [
    "# import numpy as np\n",
    "# import pandas as pd\n",
    "# from keras.datasets import mnist\n",
    "# from keras.utils import to_categorical\n"
   ]
  },
  {
   "cell_type": "code",
   "execution_count": 9,
   "metadata": {},
   "outputs": [
    {
     "name": "stdout",
     "output_type": "stream",
     "text": [
      "━━━━━━━━━━━━━━━━━━━━━━━━━━━━━━━━━━━━━━━━━━━━━━━━━━ 0.0/601.4 MB  ━━━━━━━━━━━━━━━━━━━━━━━━━━━━━━━━━━━━━╸ 150.3/601.4 MB  ━━━━━━━━━━━━━━━━━━━━━━━━╸ 300.7/601.4 MB  ━━━━━━━━━━━━╸ 451.0/601.4 MB  ╸ 601.4/601.4 MB  \n"
     ]
    }
   ],
   "source": [
    "import sys\n",
    "import time\n",
    "from colorama import init, Fore\n",
    "\n",
    "init(autoreset=True)\n",
    "\n",
    "def print_progress_bar(current, total):\n",
    "    bar_length = 50\n",
    "    fraction = current / total\n",
    "    filled_length = int(bar_length * fraction)\n",
    "\n",
    "    # 创建进度条字符串\n",
    "    bar = (Fore.MAGENTA + '━' * filled_length + \n",
    "           Fore.LIGHTBLACK_EX + '━' * (bar_length - filled_length - 1) + '╸')\n",
    "    \n",
    "    # 清除当前行并打印进度条\n",
    "    sys.stdout.write(f'\\r{bar} {current:.1f}/{total:.1f} MB  ')\n",
    "    sys.stdout.flush()\n",
    "\n",
    "total_size = 601.4\n",
    "\n",
    "# 测试不同进度\n",
    "progress_steps = [0, total_size / 4, total_size / 2, total_size * 3 / 4, total_size]\n",
    "for current in progress_steps:\n",
    "    print_progress_bar(current, total_size)\n",
    "    time.sleep(0.5)\n",
    "\n",
    "print()  # 打印换行以结束输出\n"
   ]
  },
  {
   "cell_type": "code",
   "execution_count": null,
   "metadata": {},
   "outputs": [],
   "source": []
  }
 ],
 "metadata": {
  "kernelspec": {
   "display_name": "Python 3 (ipykernel)",
   "language": "python",
   "name": "python3"
  },
  "language_info": {
   "codemirror_mode": {
    "name": "ipython",
    "version": 3
   },
   "file_extension": ".py",
   "mimetype": "text/x-python",
   "name": "python",
   "nbconvert_exporter": "python",
   "pygments_lexer": "ipython3",
   "version": "3.12.4"
  }
 },
 "nbformat": 4,
 "nbformat_minor": 2
}
