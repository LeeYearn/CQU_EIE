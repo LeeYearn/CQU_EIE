{
 "cells": [
  {
   "cell_type": "code",
   "execution_count": 1,
   "metadata": {},
   "outputs": [],
   "source": [
    "import cv2\n",
    "import matplotlib.pyplot as plt"
   ]
  },
  {
   "cell_type": "code",
   "execution_count": 2,
   "metadata": {},
   "outputs": [],
   "source": [
    "# 1. 加载并处理图片\n",
    "imgPath = '/home/liy/CQU_EIE/dataEngineer/digitReco/template.png'\n",
    "image = cv2.imread(imgPath, cv2.IMREAD_GRAYSCALE)\n",
    "blurred = cv2.GaussianBlur(image, (5, 5), 0)\n",
    "edges = cv2.Canny(blurred, 50, 150)"
   ]
  },
  {
   "cell_type": "code",
   "execution_count": 3,
   "metadata": {},
   "outputs": [],
   "source": [
    "# 2. 找到最大轮廓并裁剪网格区域\n",
    "contours, _ = cv2.findContours(edges, cv2.RETR_EXTERNAL, cv2.CHAIN_APPROX_SIMPLE)\n",
    "x, y, w, h = cv2.boundingRect(max(contours, key=cv2.contourArea))\n",
    "cropped_grid = image[y:y+h, x:x+w]"
   ]
  },
  {
   "cell_type": "code",
   "execution_count": 4,
   "metadata": {},
   "outputs": [],
   "source": [
    "# 3. 显示裁剪后的网格\n",
    "plt.imshow(cropped_grid, cmap='gray')\n",
    "plt.title(\"Cropped Grid\")\n",
    "# plt.show()\n",
    "plt.close() # 不显示图像"
   ]
  },
  {
   "cell_type": "code",
   "execution_count": 5,
   "metadata": {},
   "outputs": [],
   "source": [
    "# 4. 分割网格\n",
    "grid_rows, grid_cols = 44, 27  # 网格是 44x27\n",
    "cell_height, cell_width = cropped_grid.shape[0] // grid_rows+1, cropped_grid.shape[1] // grid_cols\n",
    "\n",
    "cells = [\n",
    "    cropped_grid[row*cell_height:(row+1)*cell_height, col*cell_width:(col+1)*cell_width]\n",
    "    for row in range(grid_rows) for col in range(grid_cols)\n",
    "]"
   ]
  },
  {
   "cell_type": "code",
   "execution_count": 6,
   "metadata": {},
   "outputs": [],
   "source": [
    "# 5. 可视化每个方格（可选）\n",
    "for i, cell in enumerate(cells):\n",
    "    plt.imshow(cell, cmap='gray')\n",
    "    plt.title(f\"Cell {i}\")\n",
    "plt.close() # 不显示图像"
   ]
  },
  {
   "cell_type": "code",
   "execution_count": 7,
   "metadata": {},
   "outputs": [
    {
     "name": "stdout",
     "output_type": "stream",
     "text": [
      "分割后的方格数量: 1188\n"
     ]
    }
   ],
   "source": [
    "print(f\"分割后的方格数量: {len(cells)}\")"
   ]
  },
  {
   "cell_type": "code",
   "execution_count": 12,
   "metadata": {},
   "outputs": [
    {
     "data": {
      "text/plain": [
       "<matplotlib.image.AxesImage at 0x7fd5a585a630>"
      ]
     },
     "execution_count": 12,
     "metadata": {},
     "output_type": "execute_result"
    },
    {
     "data": {
      "image/png": "[encoded data removed]",
      "text/plain": [
       "<Figure size 640x480 with 1 Axes>"
      ]
     },
     "metadata": {},
     "output_type": "display_data"
    }
   ],
   "source": [
    "plt.imshow(cells[0])"
   ]
  },
  {
   "cell_type": "code",
   "execution_count": null,
   "metadata": {},
   "outputs": [],
   "source": []
  }
 ],
 "metadata": {
  "kernelspec": {
   "display_name": "Python 3 (ipykernel)",
   "language": "python",
   "name": "python3"
  }
 },
 "nbformat": 4,
 "nbformat_minor": 2
}
