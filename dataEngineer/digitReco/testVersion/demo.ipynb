{
 "cells": [
  {
   "cell_type": "code",
   "execution_count": 27,
   "metadata": {},
   "outputs": [
    {
     "name": "stdout",
     "output_type": "stream",
     "text": [
      "Epoch 1/1\n"
     ]
    },
    {
     "name": "stderr",
     "output_type": "stream",
     "text": [
      "Training: 100%|███████████████████████████████████████████████████████████████████████ [time: 00:17]\n"
     ]
    },
    {
     "name": "stdout",
     "output_type": "stream",
     "text": [
      "performance =  0.9582\n"
     ]
    }
   ],
   "source": [
    "import numpy as np\n",
    "import scipy.special\n",
    "import matplotlib.pyplot as plt\n",
    "from tqdm import tqdm  # Import tqdm for progress bar\n",
    "\n",
    "# neural network class definition\n",
    "class NeuralNetwork:\n",
    "    def __init__(self, input_nodes, hidden_nodes, output_nodes, learning_rate):\n",
    "        # set number of nodes in each input, hidden, output layer\n",
    "        self.i_nodes = input_nodes\n",
    "        self.h_nodes = hidden_nodes\n",
    "        self.o_nodes = output_nodes\n",
    "        # link weight matrices, input_hidden, hidden_output\n",
    "        self.i_h_weight = np.random.normal(0.0, pow(self.h_nodes, -0.5), (self.h_nodes, self.i_nodes))\n",
    "        self.h_o_weight = np.random.normal(0.0, pow(self.o_nodes, -0.5), (self.o_nodes, self.h_nodes))\n",
    "        # learning rate\n",
    "        self.lr = learning_rate\n",
    "        # activation function is the sigmoid function\n",
    "        self.activation_function = lambda x: scipy.special.expit(x)\n",
    "\n",
    "    # train the neural network\n",
    "    def train(self, inputs_list, targets_list):\n",
    "        inputs = np.array(inputs_list, ndmin=2).T\n",
    "        targets = np.array(targets_list, ndmin=2).T\n",
    "        \n",
    "        # forward pass\n",
    "        hidden_inputs = np.dot(self.i_h_weight, inputs)\n",
    "        hidden_outputs = self.activation_function(hidden_inputs)\n",
    "        final_inputs = np.dot(self.h_o_weight, hidden_outputs)\n",
    "        final_outputs = self.activation_function(final_inputs)\n",
    "\n",
    "        # error calculation\n",
    "        output_errors = targets - final_outputs\n",
    "        hidden_errors = np.dot(self.h_o_weight.T, output_errors)\n",
    "\n",
    "        # update the weight\n",
    "        self.h_o_weight += self.lr * np.dot((output_errors * final_outputs * (1.0 - final_outputs)), np.transpose(hidden_outputs))\n",
    "        self.i_h_weight += self.lr * np.dot((hidden_errors * hidden_outputs * (1.0 - hidden_outputs)), np.transpose(inputs))\n",
    "\n",
    "    # query the neural network\n",
    "    def query(self, inputs_list):\n",
    "        inputs = np.array(inputs_list, ndmin=2).T\n",
    "        hidden_inputs = np.dot(self.i_h_weight, inputs)\n",
    "        hidden_outputs = self.activation_function(hidden_inputs)\n",
    "        final_inputs = np.dot(self.h_o_weight, hidden_outputs)\n",
    "        final_outputs = self.activation_function(final_inputs)\n",
    "        return final_outputs\n",
    "\n",
    "\n",
    "# number of input, hidden, output layer\n",
    "input_nodes = 784\n",
    "hidden_nodes = 200\n",
    "output_nodes = 10\n",
    "\n",
    "# learning rate is 0.1\n",
    "learning_rate = 0.1\n",
    "\n",
    "# create neural network\n",
    "n = NeuralNetwork(input_nodes, hidden_nodes, output_nodes, learning_rate)\n",
    "\n",
    "# load mnist training data\n",
    "train_dataPath = '/home/liy/CQU_EIE/dataEngineer/digitReco/data/mnist_train.csv'\n",
    "with open(train_dataPath, 'r') as training_data_file:\n",
    "    training_data_list = training_data_file.readlines()\n",
    "\n",
    "# training the neural network\n",
    "epochs = 1\n",
    "for e in range(epochs):\n",
    "    print(f\"Epoch {e + 1}/{epochs}\")\n",
    "    for record in tqdm(training_data_list, desc=\"Training\", ncols=100, bar_format=\"{l_bar}{bar} [time: {elapsed}]\"):\n",
    "        all_values_training = record.split(',')\n",
    "        inputs = (np.asfarray(all_values_training[1:]) / 255.0 * 0.99) + 0.01\n",
    "        targets = np.zeros(output_nodes) + 0.01\n",
    "        targets[int(all_values_training[0])] = 0.99\n",
    "        n.train(inputs, targets)\n",
    "\n",
    "# test the neural network\n",
    "# load the test data\n",
    "test_dataPath = '/home/liy/CQU_EIE/dataEngineer/digitReco/data/mnist_test.csv'\n",
    "with open(test_dataPath, 'r') as test_data_file:\n",
    "    test_data_list = test_data_file.readlines()\n",
    "\n",
    "# test\n",
    "scorecard = []\n",
    "for record in test_data_list:\n",
    "    all_values_test = record.split(',')\n",
    "    correct_label = int(all_values_test[0])\n",
    "    inputs_test = (np.asfarray(all_values_test[1:]) / 255.0 * 0.99) + 0.01\n",
    "    output_test = n.query(inputs_test)\n",
    "    label = np.argmax(output_test)\n",
    "    if label == correct_label:\n",
    "        scorecard.append(1)\n",
    "    else:\n",
    "        scorecard.append(0)\n",
    "\n",
    "# calculate the performance score\n",
    "scorecard_array = np.asarray(scorecard)\n",
    "print('performance = ', scorecard_array.sum() / scorecard_array.size)\n"
   ]
  },
  {
   "cell_type": "code",
   "execution_count": null,
   "metadata": {},
   "outputs": [],
   "source": []
  },
  {
   "cell_type": "code",
   "execution_count": null,
   "metadata": {},
   "outputs": [],
   "source": []
  }
 ],
 "metadata": {
  "kernelspec": {
   "display_name": "Python 3 (ipykernel)",
   "language": "python",
   "name": "python3"
  }
 },
 "nbformat": 4,
 "nbformat_minor": 2
}
